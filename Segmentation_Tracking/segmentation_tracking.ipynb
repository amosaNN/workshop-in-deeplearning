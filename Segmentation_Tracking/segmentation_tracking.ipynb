{
  "cells": [
    {
      "cell_type": "markdown",
      "metadata": {},
      "source": [
        "## Segmentation & Tracking using DeepCell\n",
        "- Ran originally on Google Colab"
      ]
    },
    {
      "cell_type": "markdown",
      "metadata": {},
      "source": [
        "## Installation"
      ]
    },
    {
      "cell_type": "code",
      "execution_count": null,
      "metadata": {
        "colab": {
          "base_uri": "https://localhost:8080/"
        },
        "id": "c4Y_NmHXDQou",
        "outputId": "a15e7d11-002d-4d0e-c608-cb5063142a33"
      },
      "outputs": [
        {
          "name": "stdout",
          "output_type": "stream",
          "text": [
            "Not connected to a GPU\n"
          ]
        }
      ],
      "source": [
        "gpu_info = !nvidia-smi\n",
        "gpu_info = '\\n'.join(gpu_info)\n",
        "if gpu_info.fin('failed') >= 0:\n",
        "  print('Not connected to a GPU')\n",
        "else:\n",
        "  print(gpu_info)"
      ]
    },
    {
      "cell_type": "code",
      "execution_count": null,
      "metadata": {
        "colab": {
          "base_uri": "https://localhost:8080/"
        },
        "id": "-pwEL9hCKlH2",
        "outputId": "e402d904-969d-425e-d855-c196a1abd44c"
      },
      "outputs": [
        {
          "name": "stdout",
          "output_type": "stream",
          "text": [
            "Drive already mounted at /content/drive; to attempt to forcibly remount, call drive.mount(\"/content/drive\", force_remount=True).\n"
          ]
        }
      ],
      "source": [
        "from google.colab import drive\n",
        "drive.mount('/content/drive')"
      ]
    },
    {
      "cell_type": "code",
      "execution_count": null,
      "metadata": {
        "colab": {
          "base_uri": "https://localhost:8080/"
        },
        "id": "5e3NhpqprWzk",
        "outputId": "e379a985-b5e6-46ca-bb13-f414f495a90b"
      },
      "outputs": [
        {
          "name": "stdout",
          "output_type": "stream",
          "text": [
            "Cloning into 'deepcell-tf'...\n",
            "remote: Enumerating objects: 5587, done.\u001b[K\n",
            "remote: Counting objects: 100% (1142/1142), done.\u001b[K\n",
            "remote: Compressing objects: 100% (549/549), done.\u001b[K\n",
            "remote: Total 5587 (delta 765), reused 901 (delta 593), pack-reused 4445\u001b[K\n",
            "Receiving objects: 100% (5587/5587), 335.98 MiB | 25.03 MiB/s, done.\n",
            "Resolving deltas: 100% (3905/3905), done.\n"
          ]
        }
      ],
      "source": [
        "!git clone https://github.com/vanvalenlab/deepcell-tf.git"
      ]
    },
    {
      "cell_type": "code",
      "execution_count": null,
      "metadata": {
        "colab": {
          "base_uri": "https://localhost:8080/"
        },
        "id": "Qy1ItvcHRF-7",
        "outputId": "b241faef-4897-4e3d-e20d-0ab58055a083"
      },
      "outputs": [
        {
          "name": "stdout",
          "output_type": "stream",
          "text": [
            "/content/deepcell-tf/deepcell-tf\n"
          ]
        }
      ],
      "source": [
        "cd deepcell-tf/"
      ]
    },
    {
      "cell_type": "code",
      "execution_count": 1,
      "metadata": {
        "colab": {
          "base_uri": "https://localhost:8080/"
        },
        "id": "uWDks5C50ZXA",
        "outputId": "7f8898a7-946d-4135-e8da-ea51f6faf027"
      },
      "outputs": [],
      "source": [
        "# !pip install -e . "
      ]
    },
    {
      "cell_type": "code",
      "execution_count": null,
      "metadata": {
        "id": "aDM64zbkMvWB"
      },
      "outputs": [],
      "source": [
        "!pip install -Uqq imagecodecs\n",
        "!pip install -Uqq \"scikit-image == 0.19.3\""
      ]
    },
    {
      "cell_type": "code",
      "execution_count": null,
      "metadata": {
        "colab": {
          "base_uri": "https://localhost:8080/"
        },
        "id": "XTliWAhsHw3_",
        "outputId": "1de9d880-e6eb-46c2-a00f-422d99426b13"
      },
      "outputs": [
        {
          "name": "stdout",
          "output_type": "stream",
          "text": [
            "Name: DeepCell-Tracking\n",
            "Version: 0.6.1\n",
            "Summary: Tracking cells and lineage with deep learning.\n",
            "Home-page: https://github.com/vanvalenlab/deepcell-tracking\n",
            "Author: Van Valen Lab\n",
            "Author-email: vanvalenlab@gmail.com\n",
            "License: LICENSE\n",
            "Location: /usr/local/lib/python3.7/dist-packages\n",
            "Requires: pandas, scipy, deepcell-toolbox, scikit-image, numpy, networkx\n",
            "Required-by: \n"
          ]
        }
      ],
      "source": [
        "!pip show deepcell-tracking"
      ]
    },
    {
      "cell_type": "markdown",
      "metadata": {},
      "source": [
        "#### Our modified files to extract features from tracks\n",
        "- Abvilable at the folder appended - deepcell_tracking"
      ]
    },
    {
      "cell_type": "code",
      "execution_count": null,
      "metadata": {
        "id": "yscEyRYaJo0n"
      },
      "outputs": [],
      "source": [
        "!cp -rf /content/drive/MyDrive/DeepCell/utils.py /usr/local/lib/python3.7/dist-packages/deepcell_tracking"
      ]
    },
    {
      "cell_type": "code",
      "execution_count": null,
      "metadata": {
        "id": "MZ7QI-vYMCg6"
      },
      "outputs": [],
      "source": [
        "!cp -rf /content/drive/MyDrive/DeepCell/tracking.py /usr/local/lib/python3.7/dist-packages/deepcell_tracking"
      ]
    },
    {
      "cell_type": "markdown",
      "metadata": {
        "id": "l3H9UU3zrUyD"
      },
      "source": [
        "### Choose Folder with TIF Images - Ours was on drive"
      ]
    },
    {
      "cell_type": "code",
      "execution_count": null,
      "metadata": {
        "id": "kCpeE52ZrUyF"
      },
      "outputs": [],
      "source": [
        "tif_path = Path(r'/content/drive/MyDrive/DeepCell/Images')\n",
        "tif_files = list(tif_path.glob('*.tif'))"
      ]
    },
    {
      "cell_type": "code",
      "execution_count": null,
      "metadata": {
        "colab": {
          "base_uri": "https://localhost:8080/"
        },
        "id": "gkbx2O4rJ71m",
        "outputId": "bdee06d1-ca09-47aa-9ed9-511981ec1b6f"
      },
      "outputs": [
        {
          "data": {
            "text/plain": [
              "10278"
            ]
          },
          "execution_count": 33,
          "metadata": {},
          "output_type": "execute_result"
        }
      ],
      "source": [
        "len(tif_files)"
      ]
    },
    {
      "cell_type": "markdown",
      "metadata": {},
      "source": [
        "## Functions & Imports"
      ]
    },
    {
      "cell_type": "code",
      "execution_count": null,
      "metadata": {},
      "outputs": [],
      "source": [
        "import os\n",
        "import numpy as np\n",
        "import pandas as pd\n",
        "import matplotlib.pyplot as plt\n",
        "import tensorflow as tf\n",
        "import imageio\n",
        "import tifffile as tiff \n",
        "import pickle\n",
        "from pathlib import Path\n",
        "from skimage import io\n",
        "from tensorflow.keras import backend as K\n",
        "\n",
        "from datetime import datetime\n",
        "from deepcell.applications import NuclearSegmentation\n",
        "from deepcell.applications import CellTracking"
      ]
    },
    {
      "cell_type": "code",
      "execution_count": null,
      "metadata": {},
      "outputs": [],
      "source": [
        "def get_cord_for_crop(tif_files):\n",
        "    tff = tiff.imread(tif_files[0])\n",
        "    Y_size = tff.shape[0]\n",
        "    X_size = tff.shape[1]\n",
        "    cord_list = []\n",
        "    cord_list.append([0,int(X_size/2),0,int(Y_size/2)])\n",
        "    cord_list.append([0,int(X_size/2),int(Y_size/2), Y_size])\n",
        "    cord_list.append([int(X_size/2),X_size,0,int(Y_size/2)])\n",
        "    cord_list.append([int(X_size/2),X_size,int(Y_size/2), Y_size])\n",
        "    return cord_list\n",
        "\n",
        "def merge_tff_even_crop(tif_files ,cord_list, seq_length = 0):\n",
        "    if cord_list:\n",
        "        x1,x2,y1,y2 = cord_list\n",
        "    if tif_files:\n",
        "        tff = tiff.imread(tif_files[0])\n",
        "        tff = tff[y1:y2,x1:x2]\n",
        "        if len(tff.shape) == 2:\n",
        "            tff = np.expand_dims(tff, axis=-1)\n",
        "        tff = np.expand_dims(tff, axis=0)\n",
        "    if tif_files[1:]:\n",
        "        for i, other in enumerate(tif_files[1:]):\n",
        "            if i%2 == 0:\n",
        "                continue\n",
        "            othertff = tiff.imread(other)\n",
        "            othertff = othertff[y1:y2,x1:x2]\n",
        "            if len(othertff.shape) == 2:\n",
        "                othertff = np.expand_dims(othertff, axis=-1)\n",
        "            othertff = np.expand_dims(othertff, axis=0)\n",
        "            tff = np.concatenate((tff,othertff))\n",
        "\n",
        "    if seq_length > 0 and seq_length < len(tff):\n",
        "        tff = tff[0:seq_length,...]\n",
        "    return tff\n",
        "    \n",
        "def merge_tff(tif_files ,even=True, seq_length = 0):\n",
        "    if tif_files:\n",
        "        tff = tiff.imread(tif_files[0])\n",
        "        if len(tff.shape) == 2:\n",
        "            tff = np.expand_dims(tff, axis=-1)\n",
        "        tff = np.expand_dims(tff, axis=0)\n",
        "    if tif_files[1:]:\n",
        "        for i, other in enumerate(tif_files[1:]):\n",
        "            if even and i%2 == 0:\n",
        "                continue\n",
        "            othertff = tiff.imread(other)\n",
        "            if len(othertff.shape) == 2:\n",
        "                othertff = np.expand_dims(othertff, axis=-1)\n",
        "            othertff = np.expand_dims(othertff, axis=0)\n",
        "            tff = np.concatenate((tff,othertff))\n",
        "\n",
        "    if seq_length > 0 and seq_length < len(tff):\n",
        "        tff = tff[0:seq_length,...]\n",
        "    return tff\n",
        "\n",
        "def pick_channel(x,channel = 0):\n",
        "    return x[...,channel:(channel+1)]\n",
        "\n",
        "\n",
        "def segmentation(x, file_path, mpp =1.24):\n",
        "    app = NuclearSegmentation()\n",
        "    y_seg = app.predict(x, image_mpp = mpp)\n",
        "    np.save(file_path, y_seg, allow_pickle=True)\n",
        "    return y_seg\n",
        "\n",
        "def tracking(x, y_seg):\n",
        "    tracker = CellTracking()\n",
        "    tracked_data = tracker.track(np.copy(x), y_seg)\n",
        "    # d = tracked_data.copy()\n",
        "    # np.save(file_name, d, allow_pickle=True)\n",
        "    return tracked_data\n",
        "\n",
        "def plot_tff(im1,im2,vmin,vmax):\n",
        "    fig, ax = plt.subplots(1, 2, figsize=(30, 15))\n",
        "    ax[0].imshow(im1)\n",
        "    ax[0].axis('off')\n",
        "    ax[0].set_title('Raw')\n",
        "    ax[1].imshow(im2, cmap='jet', vmin=vmin, vmax=vmax)\n",
        "    ax[1].set_title('Tracked')\n",
        "    ax[1].axis('off')\n",
        "\n",
        "    fig.canvas.draw()  # draw the canvas, cache the renderer\n",
        "    image = np.frombuffer(fig.canvas.tostring_rgb(), dtype='uint8')\n",
        "    image = image.reshape(fig.canvas.get_width_height()[::-1] + (3,))\n",
        "    plt.close(fig)\n",
        "\n",
        "    return image\n",
        "\n",
        "\n",
        "def save_results(x,y_seg, tracked_data, tff_path,well,txt):\n",
        "    centroids = pd.DataFrame(columns = range(x.shape[0]))\n",
        "    morphologies = pd.DataFrame(columns = range(x.shape[0]))\n",
        "    embeddings = pd.DataFrame(columns = range(x.shape[0]))\n",
        "\n",
        "    for cell_id, cell_dict in tracked_data['tracks'].items():\n",
        "        for i,frame in enumerate(cell_dict['frames']):\n",
        "            centroids.at[cell_id,frame] = cell_dict['centroid'][i]\n",
        "            morphologies.at[cell_id,frame] = cell_dict['morphologies'][i]\n",
        "            embeddings.at[cell_id,frame] = cell_dict['embedding'][i]\n",
        "\n",
        "    date = datetime.now().strftime(\"%Y-%m-%d_%H-%M-%S\")\n",
        "    directory = f\"Results_{well}_{txt}_{date}\"\n",
        "    res_path = tff_path.joinpath(directory)\n",
        "    os.mkdir(res_path)\n",
        "\n",
        "    centroids.to_csv(res_path.joinpath('centroids.csv'))\n",
        "    morphologies.to_csv(res_path.joinpath('morphologies.csv'))\n",
        "    embeddings.to_csv(res_path.joinpath('embeddings.csv'))\n",
        "\n",
        "    # with open(res_path.joinpath('track_results.pkl'), 'wb') as f:\n",
        "    #     pickle.dump(tracked_data, f)\n",
        "\n",
        "    X = tracked_data['X']  # raw X data\n",
        "    y = tracked_data['y_tracked']  # tracked y data\n",
        "\n",
        "    # imageio.mimsave(res_path.joinpath('tracks.tif'), [plot_tff(x[i,...,0], y[i,...,0], y.min(), y.max())\n",
        "    #                             for i in range(y_seg.shape[0])])\n",
        "    imageio.mimsave(res_path.joinpath('tracks.gif'), [plot_tff(x[i,...,0], y[i,...,0], y.min(), y.max())\n",
        "                        for i in range(y_seg.shape[0])])"
      ]
    },
    {
      "cell_type": "markdown",
      "metadata": {},
      "source": [
        "## Main"
      ]
    },
    {
      "cell_type": "markdown",
      "metadata": {
        "id": "hibnIYOFrUyG"
      },
      "source": [
        "### Merging The TIF files to 1 TIF file\n",
        "- The files will be sorted by wells, and then views\n",
        "- the tiff file will have 4 dimensions :\n",
        "  - (t,x,y,c) \n",
        "    - t = time \n",
        "    - x - x location\n",
        "    - y - y location\n",
        "    - c - number of channels"
      ]
    },
    {
      "cell_type": "code",
      "execution_count": null,
      "metadata": {
        "colab": {
          "base_uri": "https://localhost:8080/"
        },
        "id": "T61TjCwZVSKT",
        "outputId": "698e94f0-9d03-40f9-abeb-d6482143a5e5"
      },
      "outputs": [
        {
          "name": "stdout",
          "output_type": "stream",
          "text": [
            "well:D2 , view:3, 95\n",
            "well:D2 , view:2, 95\n",
            "well:D2 , view:4, 95\n",
            "well:D2 , view:1, 95\n",
            "well:D3 , view:1, 95\n",
            "well:D3 , view:2, 95\n",
            "well:D3 , view:3, 95\n",
            "well:D3 , view:4, 95\n",
            "well:G5 , view:1, 95\n",
            "well:G5 , view:4, 95\n",
            "well:G5 , view:2, 84\n",
            "well:G5 , view:3, 95\n",
            "well:G10 , view:4, 16\n",
            "well:G2 , view:2, 95\n",
            "well:G2 , view:4, 95\n",
            "well:G2 , view:3, 95\n",
            "well:G2 , view:1, 95\n",
            "well:E7 , view:1, 95\n",
            "well:E7 , view:2, 95\n",
            "well:E7 , view:4, 95\n",
            "well:E7 , view:3, 95\n",
            "well:F2 , view:2, 95\n",
            "well:F2 , view:3, 95\n",
            "well:F2 , view:4, 95\n",
            "well:F2 , view:1, 95\n",
            "well:E4 , view:2, 95\n",
            "well:E4 , view:1, 95\n",
            "well:G6 , view:1, 95\n",
            "well:G6 , view:2, 85\n",
            "well:G6 , view:3, 25\n",
            "well:F9 , view:1, 190\n",
            "well:F9 , view:4, 190\n",
            "well:F9 , view:2, 189\n",
            "well:F9 , view:3, 190\n",
            "well:E10 , view:1, 95\n",
            "well:E10 , view:2, 95\n",
            "well:E10 , view:3, 95\n",
            "well:E10 , view:4, 95\n",
            "well:E9 , view:1, 95\n",
            "well:E9 , view:4, 95\n",
            "well:E9 , view:2, 95\n",
            "well:E9 , view:3, 95\n",
            "well:F8 , view:1, 190\n",
            "well:F8 , view:4, 190\n",
            "well:F8 , view:2, 190\n",
            "well:F8 , view:3, 190\n",
            "well:E8 , view:1, 95\n",
            "well:E8 , view:4, 95\n",
            "well:E8 , view:2, 95\n",
            "well:E8 , view:3, 95\n",
            "well:D7 , view:1, 95\n",
            "well:D7 , view:4, 95\n",
            "well:D7 , view:2, 95\n",
            "well:D7 , view:3, 95\n",
            "well:E6 , view:1, 95\n",
            "well:E6 , view:4, 95\n",
            "well:E6 , view:2, 95\n",
            "well:E6 , view:3, 95\n",
            "well:D6 , view:1, 95\n",
            "well:D6 , view:4, 95\n",
            "well:D6 , view:2, 95\n",
            "well:D6 , view:3, 95\n",
            "well:E3 , view:2, 95\n",
            "well:E3 , view:3, 95\n",
            "well:E3 , view:4, 95\n",
            "well:E3 , view:1, 95\n",
            "well:E2 , view:2, 95\n",
            "well:E2 , view:3, 95\n",
            "well:E2 , view:1, 95\n",
            "well:E2 , view:4, 95\n",
            "well:F10 , view:1, 190\n",
            "well:F10 , view:2, 190\n",
            "well:F10 , view:4, 189\n",
            "well:F10 , view:3, 190\n",
            "well:D5 , view:2, 95\n",
            "well:D5 , view:3, 95\n",
            "well:D5 , view:4, 95\n",
            "well:D5 , view:1, 95\n",
            "well:G4 , view:2, 95\n",
            "well:G4 , view:3, 95\n",
            "well:G4 , view:4, 95\n",
            "well:G4 , view:1, 95\n",
            "well:F4 , view:2, 95\n",
            "well:F4 , view:3, 95\n",
            "well:F4 , view:4, 95\n",
            "well:F4 , view:1, 95\n",
            "well:D4 , view:2, 95\n",
            "well:D4 , view:3, 95\n",
            "well:D4 , view:4, 95\n",
            "well:D4 , view:1, 95\n",
            "well:G3 , view:2, 95\n",
            "well:G3 , view:4, 95\n",
            "well:G3 , view:1, 95\n",
            "well:G3 , view:3, 95\n",
            "well:F3 , view:2, 95\n",
            "well:F3 , view:3, 95\n",
            "well:F3 , view:4, 95\n",
            "well:F3 , view:1, 95\n"
          ]
        }
      ],
      "source": [
        "tif_files = list(tif_path.glob('*.tif'))\n",
        "well_dict = {}\n",
        "for tif_file in tif_files:\n",
        "    file_name = tif_file.stem.split('_')\n",
        "    well_name = file_name[2]\n",
        "    view_name = file_name[3]\n",
        "    \n",
        "    if well_name not in well_dict:\n",
        "        well_dict[well_name] = {}\n",
        "    if view_name not in well_dict[well_name]:\n",
        "        well_dict[well_name][view_name] = []\n",
        "\n",
        "    well_dict[well_name][view_name].append(tif_file)\n",
        "\n",
        "for well, views in well_dict.items():\n",
        "    for view , view_tif in views.items():\n",
        "        print(f'well:{well} , view:{view}, {len(view_tif)}')"
      ]
    },
    {
      "cell_type": "markdown",
      "metadata": {},
      "source": [
        "### Segmenting all wells - utilizing GPU for speedup"
      ]
    },
    {
      "cell_type": "code",
      "execution_count": null,
      "metadata": {
        "id": "7nw9mHfDnfJR"
      },
      "outputs": [],
      "source": [
        "for well, views in well_dict.items():\n",
        "    for view , view_tif in views.items():\n",
        "        file_path = f'/content/drive/MyDrive/DeepCell/Segmentation/seg_tff_{well}_{view}.npy'\n",
        "        my_file = Path(file_path)\n",
        "        if my_file.is_file():\n",
        "            continue\n",
        "        if len(view_tif) > 95:\n",
        "            continue\n",
        "        print(f'well:{well} , view:{view}, {len(view_tif)}')\n",
        "        view_tif.sort()\n",
        "        merged_tff = merge_tff(view_tif,even=False)\n",
        "        segmentation(merged_tff,file_path)\n",
        "        del merged_tff"
      ]
    },
    {
      "cell_type": "markdown",
      "metadata": {},
      "source": [
        "### Tracking all segmented wells - dividing the TIFFs to 4 quarters (crops)\n",
        "- to avoid MemoryExauhstion Error"
      ]
    },
    {
      "cell_type": "code",
      "execution_count": null,
      "metadata": {
        "colab": {
          "base_uri": "https://localhost:8080/"
        },
        "id": "RtXlfgQkqc49",
        "outputId": "a4791523-4071-43cb-a1f9-19f3aa1554da"
      },
      "outputs": [
        {
          "name": "stdout",
          "output_type": "stream",
          "text": [
            "well:G5 , view:1, 95\n",
            "/content/drive/MyDrive/DeepCell/Segmentation/seg_tff_G5_1.npy\n",
            "Seg shape:23 and merge 95 mismatch\n",
            "well:G5 , view:2, 84\n",
            "/content/drive/MyDrive/DeepCell/Segmentation/seg_tff_G5_2.npy\n",
            "Seg shape:84 and merge 84 mismatch\n",
            "well:G10 , view:4, 16\n",
            "/content/drive/MyDrive/DeepCell/Segmentation/seg_tff_G10_4.npy\n",
            "Seg shape:16 and merge 16 mismatch\n",
            "well:G2 , view:2, 95\n",
            "/content/drive/MyDrive/DeepCell/Segmentation/seg_tff_G2_2.npy\n",
            "Seg shape:2 and merge 95 mismatch\n",
            "well:G2 , view:4, 95\n",
            "/content/drive/MyDrive/DeepCell/Segmentation/seg_tff_G2_4.npy\n",
            "Seg shape:4 and merge 95 mismatch\n",
            "well:E7 , view:1, 95\n",
            "/content/drive/MyDrive/DeepCell/Segmentation/seg_tff_E7_1.npy\n",
            "Seg shape:2 and merge 95 mismatch\n",
            "well:E7 , view:2, 95\n",
            "/content/drive/MyDrive/DeepCell/Segmentation/seg_tff_E7_2.npy\n",
            "Seg shape:28 and merge 95 mismatch\n",
            "well:E7 , view:4, 95\n",
            "/content/drive/MyDrive/DeepCell/Segmentation/seg_tff_E7_4.npy\n",
            "Seg shape:13 and merge 95 mismatch\n",
            "well:F2 , view:2, 95\n",
            "/content/drive/MyDrive/DeepCell/Segmentation/seg_tff_F2_2.npy\n",
            "Seg shape:4 and merge 95 mismatch\n",
            "well:F2 , view:3, 95\n",
            "/content/drive/MyDrive/DeepCell/Segmentation/seg_tff_F2_3.npy\n",
            "Seg shape:18 and merge 95 mismatch\n",
            "well:F2 , view:4, 95\n",
            "/content/drive/MyDrive/DeepCell/Segmentation/seg_tff_F2_4.npy\n",
            "Seg shape:28 and merge 95 mismatch\n",
            "well:E4 , view:2, 95\n",
            "/content/drive/MyDrive/DeepCell/Segmentation/seg_tff_E4_2.npy\n",
            "Seg shape:77 and merge 95 mismatch\n",
            "well:E4 , view:1, 95\n",
            "/content/drive/MyDrive/DeepCell/Segmentation/seg_tff_E4_1.npy\n",
            "[0, 704, 0, 520]\n",
            "No cells in the crop 0\n",
            "[0, 704, 520, 1040]\n",
            "No cells in the crop 1\n",
            "[704, 1408, 0, 520]\n",
            "No cells in the crop 2\n",
            "[704, 1408, 520, 1040]\n",
            "No cells in the crop 3\n",
            "well:G6 , view:2, 85\n",
            "/content/drive/MyDrive/DeepCell/Segmentation/seg_tff_G6_2.npy\n",
            "Seg shape:85 and merge 85 mismatch\n",
            "well:G6 , view:3, 25\n",
            "/content/drive/MyDrive/DeepCell/Segmentation/seg_tff_G6_3.npy\n",
            "Seg shape:5 and merge 25 mismatch\n",
            "well:F9 , view:1, 190\n",
            "well:F9 , view:4, 190\n",
            "well:F9 , view:2, 189\n",
            "well:F9 , view:3, 190\n",
            "well:F8 , view:1, 190\n",
            "well:F8 , view:4, 190\n",
            "well:F8 , view:2, 190\n",
            "well:F8 , view:3, 190\n",
            "well:D6 , view:1, 95\n",
            "/content/drive/MyDrive/DeepCell/Segmentation/seg_tff_D6_1.npy\n",
            "[0, 704, 0, 520]\n",
            "No cells in the crop 0\n",
            "[0, 704, 520, 1040]\n",
            "No cells in the crop 1\n",
            "[704, 1408, 0, 520]\n",
            "No cells in the crop 2\n",
            "[704, 1408, 520, 1040]\n",
            "No cells in the crop 3\n",
            "well:D6 , view:4, 95\n",
            "/content/drive/MyDrive/DeepCell/Segmentation/seg_tff_D6_4.npy\n",
            "[0, 704, 0, 520]\n",
            "No cells in the crop 0\n",
            "[0, 704, 520, 1040]\n",
            "No cells in the crop 1\n",
            "[704, 1408, 0, 520]\n",
            "No cells in the crop 2\n",
            "[704, 1408, 520, 1040]\n",
            "No cells in the crop 3\n",
            "well:D6 , view:2, 95\n",
            "/content/drive/MyDrive/DeepCell/Segmentation/seg_tff_D6_2.npy\n",
            "[0, 704, 0, 520]\n",
            "No cells in the crop 0\n",
            "[0, 704, 520, 1040]\n",
            "No cells in the crop 1\n",
            "[704, 1408, 0, 520]\n",
            "No cells in the crop 2\n",
            "[704, 1408, 520, 1040]\n",
            "No cells in the crop 3\n",
            "well:D6 , view:3, 95\n",
            "/content/drive/MyDrive/DeepCell/Segmentation/seg_tff_D6_3.npy\n",
            "[0, 704, 0, 520]\n",
            "No cells in the crop 0\n",
            "[0, 704, 520, 1040]\n",
            "No cells in the crop 1\n",
            "[704, 1408, 0, 520]\n",
            "No cells in the crop 2\n",
            "[704, 1408, 520, 1040]\n",
            "No cells in the crop 3\n",
            "well:E3 , view:2, 95\n",
            "/content/drive/MyDrive/DeepCell/Segmentation/seg_tff_E3_2.npy\n",
            "[0, 704, 0, 520]\n",
            "No cells in the crop 0\n",
            "[0, 704, 520, 1040]\n",
            "No cells in the crop 1\n",
            "[704, 1408, 0, 520]\n",
            "No cells in the crop 2\n",
            "[704, 1408, 520, 1040]\n",
            "No cells in the crop 3\n",
            "well:E3 , view:3, 95\n",
            "/content/drive/MyDrive/DeepCell/Segmentation/seg_tff_E3_3.npy\n",
            "[0, 704, 0, 520]\n",
            "No cells in the crop 0\n",
            "[0, 704, 520, 1040]\n",
            "No cells in the crop 1\n",
            "[704, 1408, 0, 520]\n",
            "No cells in the crop 2\n",
            "[704, 1408, 520, 1040]\n",
            "No cells in the crop 3\n",
            "well:E2 , view:3, 95\n",
            "/content/drive/MyDrive/DeepCell/Segmentation/seg_tff_E2_3.npy\n",
            "[0, 704, 0, 520]\n",
            "No cells in the crop 0\n",
            "[0, 704, 520, 1040]\n",
            "No cells in the crop 1\n",
            "[704, 1408, 0, 520]\n",
            "No cells in the crop 2\n",
            "[704, 1408, 520, 1040]\n",
            "No cells in the crop 3\n",
            "well:E2 , view:1, 95\n",
            "/content/drive/MyDrive/DeepCell/Segmentation/seg_tff_E2_1.npy\n",
            "[0, 704, 0, 520]\n",
            "No cells in the crop 0\n",
            "[0, 704, 520, 1040]\n",
            "No cells in the crop 1\n",
            "[704, 1408, 0, 520]\n",
            "No cells in the crop 2\n",
            "[704, 1408, 520, 1040]\n",
            "No cells in the crop 3\n",
            "well:E2 , view:4, 95\n",
            "/content/drive/MyDrive/DeepCell/Segmentation/seg_tff_E2_4.npy\n",
            "[0, 704, 0, 520]\n",
            "No cells in the crop 0\n",
            "[0, 704, 520, 1040]\n",
            "No cells in the crop 1\n",
            "[704, 1408, 0, 520]\n",
            "No cells in the crop 2\n",
            "[704, 1408, 520, 1040]\n",
            "No cells in the crop 3\n",
            "well:F10 , view:1, 190\n",
            "well:F10 , view:2, 190\n",
            "well:F10 , view:4, 189\n",
            "well:F10 , view:3, 190\n",
            "well:D5 , view:2, 95\n",
            "/content/drive/MyDrive/DeepCell/Segmentation/seg_tff_D5_2.npy\n",
            "[0, 704, 0, 520]\n",
            "No cells in the crop 0\n",
            "[0, 704, 520, 1040]\n",
            "No cells in the crop 1\n",
            "[704, 1408, 0, 520]\n",
            "No cells in the crop 2\n",
            "[704, 1408, 520, 1040]\n",
            "No cells in the crop 3\n",
            "well:D5 , view:3, 95\n",
            "/content/drive/MyDrive/DeepCell/Segmentation/seg_tff_D5_3.npy\n",
            "[0, 704, 0, 520]\n",
            "No cells in the crop 0\n",
            "[0, 704, 520, 1040]\n",
            "No cells in the crop 1\n",
            "[704, 1408, 0, 520]\n",
            "No cells in the crop 2\n",
            "[704, 1408, 520, 1040]\n",
            "No cells in the crop 3\n",
            "well:D5 , view:4, 95\n",
            "/content/drive/MyDrive/DeepCell/Segmentation/seg_tff_D5_4.npy\n",
            "[0, 704, 0, 520]\n",
            "No cells in the crop 0\n",
            "[0, 704, 520, 1040]\n",
            "No cells in the crop 1\n",
            "[704, 1408, 0, 520]\n",
            "No cells in the crop 2\n",
            "[704, 1408, 520, 1040]\n",
            "No cells in the crop 3\n",
            "well:D5 , view:1, 95\n",
            "/content/drive/MyDrive/DeepCell/Segmentation/seg_tff_D5_1.npy\n",
            "[0, 704, 0, 520]\n",
            "No cells in the crop 0\n",
            "[0, 704, 520, 1040]\n",
            "No cells in the crop 1\n",
            "[704, 1408, 0, 520]\n",
            "No cells in the crop 2\n",
            "[704, 1408, 520, 1040]\n",
            "No cells in the crop 3\n"
          ]
        }
      ],
      "source": [
        "res_path = Path(f'/content/drive/MyDrive/DeepCell/Results')\n",
        "for well, views in well_dict.items():\n",
        "    for view , view_tif in views.items():\n",
        "        if well == 'D2':\n",
        "          continue\n",
        "        if list(res_path.glob(f'Results_{well}_{view}_*')):\n",
        "          continue\n",
        "        e = 0\n",
        "        print(f'well:{well} , view:{view}, {len(view_tif)}')\n",
        "        view_tif.sort()\n",
        "        file_path = f'/content/drive/MyDrive/DeepCell/Segmentation/seg_tff_{well}_{view}.npy'\n",
        "        res_path_folder = f'/content/drive/MyDrive/DeepCell/Results'\n",
        "        my_file = Path(file_path)\n",
        "        if my_file.is_file():\n",
        "          print(file_path)\n",
        "          seg_tff = np.load(file_path,allow_pickle=True)\n",
        "        else:  \n",
        "          continue\n",
        "          # seg_tff = segmentation(merged_tff,file_path)\n",
        "        if seg_tff.shape[0] < 95:\n",
        "            print(f\"Seg shape:{seg_tff.shape[0]} and merge {len(view_tif)} mismatch\")\n",
        "            continue\n",
        "        # Take files from folder\n",
        "        merged_tff = merge_tff(view_tif,even=False)\n",
        "        # Even\n",
        "        merged_tff = merged_tff[::2,...]\n",
        "        seg_tff = seg_tff[::2,...]\n",
        "        if seg_tff.shape[0] != merged_tff.shape[0]:\n",
        "            print(\"Seg and merge mismatch\")\n",
        "            continue\n",
        "        # Crop\n",
        "        cord_list = get_cord_for_crop(view_tif)\n",
        "        for i,cord in enumerate(cord_list):\n",
        "            print(cord)\n",
        "            x1,x2,y1,y2 = cord\n",
        "            merged_tff_c = merged_tff[:,y1:y2,x1:x2,...]\n",
        "            seg_tff_c = seg_tff[:,y1:y2,x1:x2,...]\n",
        "            # Check not empty frames\n",
        "            l = np.array([np.max(seg_tff_c[i,...]) for i in range(seg_tff_c.shape[0])])\n",
        "            if len(np.argwhere(l==0)) > 0:\n",
        "                e = np.max(np.argwhere(l==0)) + 1\n",
        "            else:\n",
        "                e = 0\n",
        "            if e == seg_tff_c.shape[0]:\n",
        "                print(f\"No cells in the crop {i}\")\n",
        "                continue\n",
        "            print(e)\n",
        "            # From Frames with cells\n",
        "            merged_tff_c = merged_tff_c[e:,...]\n",
        "            seg_tff_c = seg_tff_c[e:,...]\n",
        "            print(\"Tracking\")\n",
        "            track_tff_c = tracking(merged_tff_c,seg_tff_c)\n",
        "            save_results(merged_tff_c,seg_tff_c,track_tff_c,res_path,well,f'{view}_start_{e}_crop_{i}')\n",
        "            del track_tff_c\n",
        "            del seg_tff_c\n"
      ]
    },
    {
      "cell_type": "code",
      "execution_count": null,
      "metadata": {
        "id": "v2qCdSUYGdKb"
      },
      "outputs": [],
      "source": []
    },
    {
      "cell_type": "code",
      "execution_count": null,
      "metadata": {
        "id": "ulk0K-eejm7-"
      },
      "outputs": [],
      "source": [
        "# for well, views in well_dict.items():\n",
        "#     for view , view_tif in views.items():\n",
        "#         # if well == 'D2' and view =='2':\n",
        "#         #   continue\n",
        "#         e = 0\n",
        "#         print(f'well:{well} , view:{view}, {len(view_tif)}')\n",
        "#         view_tif.sort()\n",
        "#         file_path = f'/content/drive/MyDrive/DeepCell/Segmentation/seg_tff_{well}_{view}.npy'\n",
        "#         res_path_folder = f'/content/drive/MyDrive/DeepCell/Results'\n",
        "#         my_file = Path(file_path)\n",
        "#         if my_file.is_file():\n",
        "#           print(file_path)\n",
        "#           seg_tff = np.load(file_path,allow_pickle=True)\n",
        "#         else:  \n",
        "#           continue\n",
        "#           # seg_tff = segmentation(merged_tff,file_path)\n",
        "#         if seg_tff.shape[0] < 95:\n",
        "#             continue\n",
        "#         # Take files from folder\n",
        "#         merged_tff = merge_tff(view_tif,even=False)\n",
        "#         # Even\n",
        "#         merged_tff = merged_tff[::2,...]\n",
        "#         seg_tff = seg_tff[::2,...]\n",
        "#         if seg_tff.shape[0] != merged_tff.shape[0]:\n",
        "#             continue\n",
        "#             # Check not empty frames\n",
        "#         l = np.array([np.max(seg_tff[i,...]) for i in range(seg_tff.shape[0])])\n",
        "#         if len(np.argwhere(l==0)) > 0:\n",
        "#             e = np.max(np.argwhere(l==0)) + 1\n",
        "#         else:\n",
        "#             e = 0\n",
        "#         if e == seg_tff.shape[0]:\n",
        "#             continue\n",
        "#         print(e)\n",
        "#         # From Frames with cells\n",
        "#         merged_tff = merged_tff[e:,...]\n",
        "#         seg_tff= seg_tff[e:,...]\n",
        "#         print(\"Tracking\")\n",
        "#         track_tff = tracking(merged_tff,seg_tff)\n",
        "#         save_results(merged_tff,seg_tff,track_tff,res_path,well,f'{view}_start_{e}')\n",
        "#         del track_tff\n",
        "#         del seg_tff\n"
      ]
    },
    {
      "cell_type": "code",
      "execution_count": null,
      "metadata": {
        "id": "QMGHS-a7PM_W"
      },
      "outputs": [],
      "source": [
        "file_path = f'/content/drive/MyDrive/DeepCell/Segmentation/seg_tff_D2_2.npy'\n",
        "seg_tff = np.load(file_path,allow_pickle=True)\n",
        "seg_tff.shape"
      ]
    },
    {
      "cell_type": "code",
      "execution_count": null,
      "metadata": {
        "id": "6Nz3VE0doPgJ"
      },
      "outputs": [],
      "source": [
        "file_path = f'/content/drive/MyDrive/DeepCell/seg_tff_{well}_{view}.npy'\n",
        "for well, views in well_dict.items():\n",
        "    for view , view_tif in views.items():\n",
        "        if well != 'D2' or view !='2':\n",
        "          continue\n",
        "        print(f'well:{well} , view:{view}, {len(view_tif)}')\n",
        "        view_tif.sort()\n",
        "        file_path = f'/content/drive/MyDrive/DeepCell/seg_tff_{well}_{view}.npy'\n",
        "\n",
        "        cord_list = get_cord_for_crop(view_tif)\n",
        "        for i,cord in enumerate(cord_list):\n",
        "            # print(cord)\n",
        "            # merged_tff = merge_tff_even_crop(view_tif,cord) # , seq_length = 30\n",
        "            merged_tff = merge_tff(view_tif)\n",
        "            # merged_tff = merged_tff[5:,...]\n",
        "            segmentation(merged_tff,1.24)\n",
        "            # print(merged_tff.shape)\n",
        "            # print(\"Segmentation\")\n",
        "            # p = Process(target=segmentation ,args=(merged_tff,1.24,q) )\n",
        "            # p.start()\n",
        "            # p.join()\n",
        "            # seg_tff = np.load(file_name,allow_pickle=True)\n",
        "            # print(seg_tff.shape)\n",
        "            # #(Drop if is empty)\n",
        "            # print(\"Tracking\")\n",
        "            # p = multiprocessing.Process(target= tracking ,args=(merged_tff,seg_tff,) )\n",
        "            # p.start()\n",
        "            # p.join()\n",
        "            # track_tff =  np.load(file_name,allow_pickle=True).item()\n",
        "            # print(track_tff.keys())\n",
        "            # save_results(merged_tff,seg_tff,track_tff,tif_path,well,f'{view}_crop_{i}')\n"
      ]
    }
  ],
  "metadata": {
    "colab": {
      "collapsed_sections": [
        "zdtn_bQ0rUyN"
      ],
      "machine_shape": "hm",
      "provenance": []
    },
    "gpuClass": "standard",
    "kernelspec": {
      "display_name": "Python 3.9.13 ('deepcell_mod': venv)",
      "language": "python",
      "name": "python3"
    },
    "language_info": {
      "codemirror_mode": {
        "name": "ipython",
        "version": 3
      },
      "file_extension": ".py",
      "mimetype": "text/x-python",
      "name": "python",
      "nbconvert_exporter": "python",
      "pygments_lexer": "ipython3",
      "version": "3.9.13"
    },
    "vscode": {
      "interpreter": {
        "hash": "a9c89bc9f31090142ff77855b9bc44de8392ede8605930f11f739aa7cbdda6ee"
      }
    }
  },
  "nbformat": 4,
  "nbformat_minor": 0
}
